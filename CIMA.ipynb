{
 "cells": [
  {
   "cell_type": "code",
   "execution_count": 2,
   "metadata": {},
   "outputs": [],
   "source": [
    "import pandas as pd\n",
    "import requests\n",
    "from bs4 import BeautifulSoup\n",
    "import pandas as pd\n",
    "import re"
   ]
  },
  {
   "cell_type": "code",
   "execution_count": 3,
   "metadata": {},
   "outputs": [],
   "source": [
    "df1 = pd.read_excel(\"./1PA.xlsx'\")\n",
    "df2 = pd.read_excel(\"./2PA.xlsx'\")\n",
    "df3 = pd.read_excel(\"./3PA.xlsx'\")\n",
    "df4 = pd.read_excel(\"./4PA.xlsx'\")\n",
    "df5 = pd.read_excel(\"./5PA.xlsx'\")\n",
    "df6 = pd.read_excel(\"./6PA.xlsx'\")\n",
    "df7 = pd.read_excel(\"./7PA.xlsx'\")\n",
    "df8 = pd.read_excel(\"./8PA.xlsx'\")\n",
    "df9 = pd.read_excel(\"./9PA.xlsx'\")"
   ]
  },
  {
   "cell_type": "code",
   "execution_count": 4,
   "metadata": {},
   "outputs": [],
   "source": [
    "dfs=(df1,df2,df3,df4,df5,df6,df7,df8,df9)\n",
    "register_number=[]\n",
    "for df in dfs: \n",
    "    register_number.append(df['Unnamed: 1'][7:])"
   ]
  },
  {
   "cell_type": "code",
   "execution_count": 5,
   "metadata": {},
   "outputs": [],
   "source": [
    "def info(register): \n",
    "    url= 'https://cima.aemps.es:443/cima/dochtml/ft/'+register+'/FT_'+register+'.html'\n",
    "    html= requests.get(url).content\n",
    "    soup= BeautifulSoup(html, 'html')\n",
    "    x = soup.select('section')\n",
    "    return [i.text for i in x]"
   ]
  },
  {
   "cell_type": "code",
   "execution_count": 6,
   "metadata": {},
   "outputs": [
    {
     "data": {
      "text/plain": [
       "array(['07428001', '65059', '61836', ..., '96022004', '96022006',\n",
       "       '111714003'], dtype=object)"
      ]
     },
     "execution_count": 6,
     "metadata": {},
     "output_type": "execute_result"
    }
   ],
   "source": [
    "register_number[0].values"
   ]
  },
  {
   "cell_type": "code",
   "execution_count": null,
   "metadata": {},
   "outputs": [],
   "source": [
    "information=[]\n",
    "for i in register_number[0].values:\n",
    "    drug_info=info(i)\n",
    "    drug_info=' '.join(drug_info)\n",
    "    information.append(drug_info)"
   ]
  },
  {
   "cell_type": "code",
   "execution_count": null,
   "metadata": {},
   "outputs": [],
   "source": [
    "    start = drug_info.find('Indicaciones terapéuticas') \n",
    "    end = drug_info.find('Posología y forma de administración', start)\n",
    "    indicaciones=drug_info[start:end]\n",
    "    start2 = drug_info.find('Reacciones adversas') \n",
    "    end2 = drug_info.find('Se invita a los profesionales sanitarios', start2)\n",
    "    reacciones_adversas=drug_info[start2:end2]\n",
    "    ind.append(indicaciones)\n",
    "    ra.append(reacciones_adversas)"
   ]
  },
  {
   "cell_type": "code",
   "execution_count": 68,
   "metadata": {
    "scrolled": false
   },
   "outputs": [],
   "source": [
    "drug_info=info('07428001')\n",
    "\n",
    "drug_info=' '.join(drug_info)"
   ]
  },
  {
   "cell_type": "code",
   "execution_count": 63,
   "metadata": {},
   "outputs": [],
   "source": [
    "\n",
    "start = drug_info.find('Indicaciones terapéuticas') \n",
    "end = drug_info.find('Posología y forma de administración', start)\n",
    "indicaciones=drug_info[start:end]"
   ]
  },
  {
   "cell_type": "code",
   "execution_count": 64,
   "metadata": {
    "scrolled": true
   },
   "outputs": [
    {
     "data": {
      "text/plain": [
       "'Indicaciones terapéuticas\\nAbraxane en monoterapia está indicado en el tratamiento del cáncer de mama metastásico en pacientes adultos en los que haya fracasado el tratamiento en primera línea de la enfermedad metastásica y para los que no esté indicada la terapia estándar con antraciclinas (ver sección 4.4).\\n\\xa0\\nAbraxane en combinación con gemcitabina está indicado en el tratamiento de primera línea en pacientes adultos con adenocarcinoma de páncreas metastásico.\\n\\xa0\\nAbraxane en combinación con carboplatino está indicado en el tratamiento de primera línea del cáncer de pulmón no microcítico en pacientes adultos que no son candidatos a cirugía y/o radioterapia potencialmente curativa.\\n\\xa0\\n4.2.\\xa0'"
      ]
     },
     "execution_count": 64,
     "metadata": {},
     "output_type": "execute_result"
    }
   ],
   "source": [
    "indicaciones"
   ]
  },
  {
   "cell_type": "code",
   "execution_count": 67,
   "metadata": {},
   "outputs": [
    {
     "data": {
      "text/plain": [
       "'Reacciones adversas\\nResumen del perfil de seguridad\\nLas reacciones adversas más frecuentes y clínicamente significativas asociadas al uso de Abraxane son neutropenia, neuropatía periférica, artralgia/mialgia y trastornos gastrointestinales.\\n\\xa0\\nLas frecuencias de las reacciones adversas asociadas a la administración de Abraxane se incluyen en la Tabla 6 (Abraxane en monoterapia), en la Tabla 7 (Abraxane en combinación con gemcitabina) y en la Tabla\\xa09 (Abraxane en combinación con carboplatino).\\n\\xa0\\nLas frecuencias se definen como: muy frecuentes (≥1/10), frecuentes (≥1/100 a <1/10), poco frecuentes (?1/1000 a <1/100), raras (?1/10\\xa0000 a <1/1000), muy raras (<1/10\\xa0000). Las reacciones adversas se incluyen en orden decreciente de frecuencia dentro de cada intervalo de frecuencia.\\n\\xa0\\nCáncer de mama (Abraxane administrado en monoterapia)\\n\\xa0\\nTabla de las reacciones adversas\\nLa Tabla 6 incluye las reacciones adversas asociadas con la administración de Abraxane a pacientes de los ensayos clínicos en los que se administró Abraxane en monoterapia a cualquier dosis y en cualquier indicación (N\\xa0=\\xa0789).\\n\\xa0\\n\\n\\n\\nTabla 6: Reacciones adversas notificadas con Abraxane en monoterapia a cualquier dosis en estudios clínicos\\n\\n\\n\\n\\nInfecciones e infestaciones\\n\\n\\nFrecuentes: Infección, infección del tracto urinario, foliculitis, infección de las vías respiratorias altas, candidiasis, sinusitis\\n\\xa0\\nPoco frecuentes: candidiasis oral, nasofaringitis, celulitis, herpes simple, infección viral, neumonía, infección relacionada con el catéter, infección fúngica, herpes zoster, infección del lugar de inyección, sepsis2, sepsis neutropénica2\\n\\n\\n\\n\\nNeoplasias benignas, malignas y no especificadas (incl. quistes y pólipos)\\n\\n\\nPoco frecuentes: dolor por metástasis, necrosis tumoral\\n\\n\\n\\n\\nTrastornos de la sangre y del sistema linfático\\n\\n\\nMuy frecuentes: neutropenia, anemia, leucopenia, trombocitopenia, linfopenia, mielosupresión\\n\\xa0\\nFrecuentes: neutropenia febril\\n\\xa0\\nRaras: pancitopenia\\n\\n\\n\\n\\nTrastornos del sistema inmunológico\\n\\n\\nPoco frecuentes1: hipersensibilidad\\n\\xa0\\nRaras: Hipersensibilidad grave\\n\\n\\n\\n\\nTrastornos del metabolismo y de la nutrición\\n\\n\\nMuy frecuentes: anorexia\\n\\xa0\\nFrecuentes: deshidratación, descenso del apetito, hipopotasemia\\n\\xa0\\nPoco frecuentes: hipofosfatemia, retención de líquidos, hipoalbuminemia, polidipsia, hiperglucemia, hipocalcemia, hipoglucemia, hiponatremia\\n\\n\\n\\n\\nTrastornos psiquiátricos\\n\\n\\nFrecuentes: insomnio, depresión, ansiedad\\n\\xa0\\nPoco frecuentes: nerviosismo\\n\\n\\n\\n\\nTrastornos del sistema nervioso\\n\\n\\nMuy frecuentes: neuropatía periférica, neuropatía, hipoestesia, parestesia\\n\\xa0\\nFrecuentes: neuropatía sensitiva periférica, cefalea, disgeusia, mareos, neuropatía motora periférica, ataxia, trastornos sensitivos, somnolencia\\n\\xa0\\nPoco frecuentes: polineuropatía, arreflexia, disquinesia, hiporreflexia, neuralgia, pérdida sensitiva, síncope, mareos posturales, dolor neuropático, temblores\\n\\n\\n\\n\\nTrastornos oculares\\n\\n\\nFrecuentes: aumento del lagrimeo, visión borrosa, ojo seco, queratoconjuntivitis seca, madarosis\\n\\xa0\\nPoco frecuentes: irritación ocular, dolor ocular, visión anormal, reducción de la agudeza visual, conjuntivitis, trastornos visuales, prurito ocular, queratitis\\n\\xa0\\nRaras: edema macular cistoide2\\n\\n\\n\\n\\nTrastornos del oído y del laberinto\\n\\n\\nFrecuentes: vértigo\\n\\xa0\\nPoco frecuentes: otalgia, tinnitus\\n\\n\\n\\n\\nTrastornos cardiacos\\n\\n\\nFrecuentes: taquicardia, arritmia, taquicardia supraventricular\\n\\xa0\\nRaras: bradicardia, parada cardiaca, disfunción ventricular izquierda, insuficiencia cardiaca congestiva, bloqueo auriculoventricular2\\n\\n\\n\\n\\nTrastornos vasculares\\n\\n\\nFrecuentes: rubor, sofocos, hipertensión, linfedema\\n\\xa0\\nPoco frecuentes: hipotensión, sensación periférica de frío, hipotensión ortostática\\n\\xa0\\nRaras: trombosis\\n\\n\\n\\n\\nTrastornos respiratorios, torácicos y mediastínicos\\n\\n\\nFrecuentes: neumonitis intersticial3, disnea, epistaxis, dolor faringolaríngeo, tos, rinitis, rinorrea\\n\\xa0\\nPoco frecuentes: tos productiva, disnea de esfuerzo, congestión sinusal, descenso de los sonidos respiratorios, derrame pleural, rinitis alérgica, ronquera, congestión nasal, sequedad nasal, sibilancias, embolia pulmonar, tromboembolismo pulmonar\\n\\n\\n\\n\\nTrastornos gastrointestinales\\n\\n\\nMuy frecuentes: náusea, diarrea, vómitos, estreñimiento, estomatitis\\n\\xa0\\nFrecuentes: dolor abdominal, distensión abdominal, dolor abdominal superior, dispepsia, reflujo gastroesofágico, hipoestesia oral\\n\\xa0\\nPoco frecuentes: disfagia, flatulencia, glosodinia, sequedad bucal, dolor gingival, heces blandas, esofagitis, dolor abdominal inferior, úlceras en la boca, dolor bucal, rectorragia\\n\\n\\n\\n\\nTrastornos hepatobiliares:\\n\\n\\nPoco frecuentes: Hepatomegalia\\n\\n\\n\\n\\nTrastornos de la piel y del tejido subcutáneo\\n\\n\\nMuy frecuentes: alopecia, erupción cutánea\\n\\xa0\\nFrecuentes: trastornos de las uñas, prurito, piel seca, eritema, pigmentación/decoloración de las uñas, hiperpigmentación de la piel, onicolisis, cambios en las uñas\\n\\xa0\\nPoco frecuentes: sensibilidad aumentada del lecho de la uña, urticaria, dolor en la piel, reacción de fotosensibilidad, trastornos de la pigmentación, erupción con prurito, trastornos de la piel, hiperhidrosis, onicomadesis, erupción eritematosa, erupción generalizada, dermatitis, sudoración nocturna, erupción maculopapular, vitíligo, hipotricosis, dolor en las uñas, prurito generalizado, erupción macular, erupción papular, lesiones de la piel, hinchazón de la cara\\n\\xa0\\nMuy raras: síndrome de Stevens-Johnson2, necrólisis epidérmica tóxica2\\n\\n\\n\\n\\nTrastornos musculoesqueléticos y del tejido conjuntivo\\n\\n\\nMuy frecuentes: artralgia, mialgia\\n\\xa0\\nFrecuentes: dolor en las extremidades, dolor óseo, dolor de espalda, calambres musculares, dolor en los miembros\\n\\xa0\\nPoco frecuentes: dolor de la pared torácica, debilidad muscular, dolor de cuello, dolor inguinal, espasmos musculares, dolor musculoesquelético, dolor costal, malestar en los miembros, debilidad muscular\\n\\n\\n\\n\\nTrastornos renales y urinarios\\n\\n\\nPoco frecuentes: disuria, polaquiuria, hematuria, nicturia, poliuria, incontinencia urinaria\\n\\n\\n\\n\\nTrastornos del aparato reproductor y de la mama\\n\\n\\nPoco frecuentes: dolor mamario\\n\\n\\n\\n\\nTrastornos generales y alteraciones en el lugar de administración\\n\\n\\nMuy frecuentes: fatiga, astenia, pirexia\\n\\xa0\\nFrecuentes: edema periférico, inflamación de mucosas, dolor, rigor, edema, debilidad, disminución del estado funcional, dolor torácico, enfermedad seudogripal (flu-like), malestar, letargo, hiperpirexia\\n\\xa0\\nPoco frecuentes: malestar torácico, alteración de la marcha, hinchazón, reacción en el lugar de inyección\\n\\xa0\\nRaras: extravasación\\n\\n\\n\\n\\nExploraciones complementarias\\n\\n\\nFrecuentes: pérdida de peso, aumento de la alanina aminotransferasa, aumento de la aspartato aminotransferasa, descenso del hematocrito, descenso del recuento de glóbulos rojos, aumento de la temperatura corporal, aumento de la gamma-glutamiltransferasa, aumento de la fosfatasa alcalina en sangre\\n\\xa0\\nPoco frecuentes: aumento de la presión arterial, aumento de peso, aumento de los niveles sanguíneos de lactato deshidrogenasa, de creatinina, de glucosa, de fósforo, descenso de los niveles de potasio en sangre, aumento de la bilirrubina\\n\\n\\n\\n\\nLesiones traumáticas, intoxicaciones y complicaciones de procedimientos terapéuticos\\n\\n\\nPoco frecuentes: contusión\\n\\xa0\\nRaras: fenómeno de fotosensibilidad inducida por la radiación, neumonitis inducida por la radiación\\n\\n\\n\\nMedDRA = Diccionario médico para actividades regulatorias.\\nSMQ = Consulta estandarizada en MedDRA; SMQ es una agrupación de varios términos preferentes de MedDRA para recoger un concepto médico.\\n1 La frecuencia de reacciones de hipersensibilidad se ha calculado basándose en un caso definitivamente relacionado en una población de 789\\xa0pacientes.\\n2 Notificadas durante la experiencia poscomercialización de Abraxane.\\n3 La frecuencia de neumonitis se calcula en base a los datos agrupados de 1310\\xa0pacientes de los ensayos clínicos que recibieron Abraxane en monoterapia para el cáncer de mama y para otras indicaciones utilizando la SMQ en MedDra Enfermedad pulmonar intersticial. Ver sección 4.4.\\n\\xa0\\nDescripción de reacciones adversas seleccionadas\\nLas siguientes reacciones adversas son las más frecuentes y clínicamente relevantes que se produjeron en los 229\\xa0pacientes con cáncer de mama metastásico tratados con 260\\xa0mg/m2 de Abraxane cada tres semanas en un estudio clínico pivotal de fase III.\\n\\xa0\\nTrastornos de la sangre y del sistema linfático\\nLa neutropenia fue la toxicidad hematológica más importante (notificada en el 79\\xa0% de los pacientes), rápidamente reversible y dependiente de la dosis; se notificó leucopenia en el 71\\xa0% de los pacientes. Se produjo neutropenia de grado 4 (<500\\xa0células/mm3) en el 9\\xa0% de los pacientes tratados con Abraxane. Se produjo neutropenia febril en cuatro pacientes tratados con Abraxane. Se observó anemia (Hb\\xa0<10\\xa0g/dl) en el 46\\xa0% de los pacientes tratados con Abraxane, siendo grave (Hb\\xa0<8\\xa0g/dl) en tres casos. Se observó linfopenia en el 45\\xa0% de los pacientes.\\n\\xa0\\nTrastornos del sistema nervioso\\nEn general, la frecuencia y gravedad de la neurotoxicidad fue dosis-dependiente en los pacientes tratados con Abraxane. Se observó neuropatía periférica (principalmente neuropatía sensitiva de grados 1 o 2) en el 68\\xa0% de los pacientes tratados con Abraxane, siendo el 10\\xa0% de los casos grado\\xa03 y ningún caso grado\\xa04.\\n\\xa0\\nTrastornos gastrointestinales\\nSe produjeron náuseas en el 29\\xa0% de los pacientes y diarrea en el 25\\xa0% de los pacientes.\\n\\xa0\\nTrastornos de la piel y del tejido subcutáneo\\nSe observó alopecia en >80\\xa0% de los pacientes tratados con Abraxane. La mayoría de los acontecimientos de alopecia se produjeron en menos de un mes después de iniciar el tratamiento con Abraxane. Se espera una caída de pelo importante, ≥50\\xa0% en la mayoría de los pacientes que presenten alopecia.\\n\\xa0\\nTrastornos musculoesqueléticos y del tejido conjuntivo\\nSe notificó artralgia en el 32\\xa0% de los pacientes tratados con Abraxane, siendo grave en el 6\\xa0% de los casos. Se produjo mialgia en el 24\\xa0% de los pacientes tratados con Abraxane, siendo grave en el 7\\xa0% de los casos. Generalmente, los síntomas fueron transitorios, se produjeron normalmente tres días después de la administración de Abraxane y se resolvieron en el plazo de una semana.\\n\\xa0\\nTrastornos generales y alteraciones en el lugar de administración\\nSe notificó astenia/fatiga en el 40\\xa0% de los pacientes.\\n\\xa0\\nAdenocarcinoma de páncreas (Abraxane administrado en combinación con gemcitabina)\\n\\xa0\\nTabla de las reacciones adversas\\nSe evaluaron las reacciones adversas en 421\\xa0pacientes tratados con Abraxane en combinación con gemcitabina y en 402\\xa0pacientes tratados con gemcitabina en monoterapia que recibieron tratamiento sistémico en primera línea para el adenocarcinoma de páncreas metastásico en un ensayo abierto, controlado, aleatorizado y de fase III. La Tabla\\xa07 incluye las reacciones adversas evaluadas en los pacientes con adenocarcinoma de páncreas tratados con Abraxane en combinación con gemcitabina.\\n\\xa0\\n\\n\\n\\n\\nTabla 7: Reacciones adversas notificadas con Abraxane en combinación con gemcitabina (N\\xa0=\\xa0421)\\n\\n\\n\\n\\n\\n\\nInfecciones e infestaciones\\n\\n\\nFrecuentes: sepsis, neumonía, candidiasis oral\\n\\xa0\\n\\n\\n\\n\\nTrastornos de la sangre y del sistema linfático\\n\\n\\nMuy frecuentes: neutropenia, anemia, trombocitopenia\\nFrecuentes: pancitopenia\\nPoco frecuentes: púrpura trombótica trombocitopénica\\n\\xa0\\n\\n\\n\\n\\nTrastornos del metabolismo y de la nutrición\\n\\n\\nMuy frecuentes: deshidratación, disminución del apetito, hipopotasemia\\n\\xa0\\n\\n\\n\\n\\nTrastornos psiquiátricos\\n\\n\\nMuy frecuentes: insomnio, depresión\\nFrecuentes: ansiedad\\n\\n\\n\\n\\nTrastornos del sistema nervioso\\n\\n\\nMuy frecuentes: neuropatía periférica1, disgeusia, cefalea, mareos\\nPoco frecuentes: parálisis del 7º nervio craneal\\n\\xa0\\n\\n\\n\\n\\nTrastornos oculares\\n\\n\\nFrecuentes: aumento del lagrimeo\\nPoco frecuentes: edema macular cistoide\\n\\xa0\\n\\n\\n\\n\\nTrastornos cardiacos\\n\\n\\nFrecuentes: insuficiencia cardiaca congestiva, taquicardia\\n\\xa0\\n\\n\\n\\n\\nTrastornos vasculares\\n\\n\\nFrecuentes: hipotensión, hipertensión\\n\\xa0\\n\\n\\n\\n\\nTrastornos respiratorios, torácicos y mediastínicos\\n\\n\\nMuy frecuentes: disnea, epistaxis, tos\\nFrecuentes: neumonitis2, congestión nasal\\nPoco frecuentes: sequedad de la faringe, sequedad nasal\\n\\xa0\\n\\n\\n\\n\\nTrastornos gastrointestinales\\n\\n\\nMuy frecuentes: náusea, diarrea, vómitos, estreñimiento, dolor abdominal, dolor abdominal superior\\nFrecuentes: estomatitis, obstrucción intestinal, colitis, sequedad bucal\\n\\xa0\\n\\n\\n\\n\\nTrastornos hepatobiliares\\n\\n\\nFrecuentes: colangitis\\n\\xa0\\n\\n\\n\\n\\nTrastornos de la piel y del tejido subcutáneo\\n\\n\\nMuy frecuentes: alopecia, erupción cutánea\\nFrecuentes: prurito, piel seca, trastorno de las uñas, enrojecimiento\\n\\xa0\\n\\n\\n\\n\\nTrastornos musculoesqueléticos y del tejido conjuntivo\\n\\n\\nMuy frecuentes: dolor en las extremidades, artralgia, mialgia\\nFrecuentes: debilidad muscular, dolor óseo\\n\\xa0\\n\\n\\n\\n\\nTrastornos renales y urinarios\\n\\n\\nFrecuentes: insuficiencia renal aguda\\nPoco frecuentes: síndrome hemolítico urémico\\n\\xa0\\n\\n\\n\\n\\nTrastornos generales y alteraciones en el lugar de administración\\n\\n\\nMuy frecuentes: fatiga, edema periférico, pirexia, astenia, escalofríos\\nFrecuentes: reacción en el lugar de inyección\\n\\xa0\\n\\n\\n\\n\\nExploraciones complementarias\\n\\xa0\\n\\n\\nMuy frecuentes: pérdida de peso, aumento de la alanina aminotransferasa\\nFrecuentes: aumento de la aspartato aminotransferasa, aumento de la bilirrubina en sangre, aumento de la creatinina en sangre\\n\\xa0\\n\\n\\n\\n\\nMedDRA = Diccionario médico para actividades regulatorias; SMQ = Consulta estandarizada en MedDRA (una agrupación de varios términos preferentes de MedDRA para recoger un concepto médico).\\n1 Neuropatía periférica evaluada utilizando la SMQ (ámbito general).\\n2 La neumonitis se evalúa utilizando la SMQ Enfermedad pulmonar intersticial (ámbito general).\\n\\xa0\\nEn este ensayo abierto, controlado, aleatorizado de fase III, se notificaron reacciones adversas que dieron lugar a la muerte en los 30\\xa0días siguientes a la última dosis del medicamento del estudio en el 4\\xa0% de los pacientes que recibieron Abraxane en combinación con gemcitabina y en el 4\\xa0% de los pacientes que recibieron gemcitabina en monoterapia.\\n\\xa0\\nDescripción de reacciones adversas seleccionadas\\nLas siguientes incidencias de reacciones adversas son las más frecuentes e importantes asociadas a 421\\xa0pacientes con adenocarcinoma de páncreas metastásico que fueron tratados con 125\\xa0mg/m2 de Abraxane en combinación con gemcitabina a una dosis de 1000\\xa0mg/m2 administrados los días 1, 8 y 15 de cada ciclo de 28\\xa0días en el estudio clínico de fase III.\\n\\xa0\\nTrastornos de la sangre y del sistema linfático\\nLa Tabla 8 muestra la frecuencia y la gravedad de las anomalías hematológicas detectadas en el laboratorio en los pacientes tratados con Abraxane en combinación con gemcitabina o con gemcitabina sola.\\n\\xa0\\nTabla\\xa08: anomalías hematológicas detectadas en el laboratorio en el ensayo de adenocarcinoma de páncreas\\n\\n\\n\\n\\xa0\\n\\n\\nAbraxane (125\\xa0mg/m2)/ Gemcitabina\\n\\n\\nGemcitabina\\n\\n\\n\\n\\nGrados 1-4\\n(%)\\n\\n\\nGrados 3-4\\n(%)\\n\\n\\nGrados 1-4\\n(%)\\n\\n\\nGrados 3-4\\n(%)\\n\\n\\n\\n\\nAnemiaa,b\\n\\n\\n97\\n\\n\\n13\\n\\n\\n96\\n\\n\\n12\\n\\n\\n\\n\\nNeutropeniaa,b\\n\\n\\n73\\n\\n\\n38\\n\\n\\n58\\n\\n\\n27\\n\\n\\n\\n\\nTrombocitopeniab,c\\n\\n\\n74\\n\\n\\n13\\n\\n\\n70\\n\\n\\n9\\n\\n\\n\\na 405 pacientes evaluados del grupo tratado con Abraxane/gemcitabina\\nb 388 pacientes evaluados del grupo tratado con gemcitabina\\nc 404 pacientes evaluados del grupo tratado con Abraxane/gemcitabina\\n\\xa0\\nNeuropatía periférica\\nEn los pacientes tratados con Abraxane en combinación con gemcitabina, la mediana de tiempo hasta la primera aparición de neuropatía periférica de grado\\xa03 fue de 140\\xa0días. La mediana de tiempo hasta la mejoría en al menos 1 grado fue de 21\\xa0días y la mediana de tiempo hasta la mejoría de la neuropatía periférica de grado 3 a grado 0 o 1 fue de 29\\xa0días. De los pacientes que interrumpieron temporalmente el tratamiento debido a la neuropatía periférica, el 44\\xa0% (31/70 pacientes) pudo reanudar el tratamiento con Abraxane a una dosis reducida. Ningún paciente tratado con Abraxane en combinación con gemcitabina presentó neuropatía periférica de grado\\xa04.\\n\\xa0\\nSepsis\\nSe notificó sepsis en un 5\\xa0% de los pacientes con o sin neutropenia que recibieron Abraxane en combinación con gemcitabina durante la realización de un ensayo en adenocarcinoma de páncreas. Las complicaciones debidas al cáncer de páncreas subyacente, especialmente la obstrucción biliar o la presencia de un stent biliar, se identificaron como factores contribuyentes significativos. Si un paciente presenta fiebre (independientemente del recuento de neutrófilos), se debe iniciar tratamiento con antibióticos de amplio espectro. En caso de neutropenia febril, se debe interrumpir temporalmente el tratamiento con Abraxane y gemcitabina hasta que remita la fiebre y se tenga un RAN ≥1500\\xa0células/mm3, luego se reanudará el tratamiento a niveles de dosis inferiores (ver sección\\xa04.2).\\n\\xa0\\nNeumonitis\\nSe notificó neumonitis en un 4\\xa0% con el uso de Abraxane en combinación con gemcitabina. De los 17\\xa0casos de neumonitis notificados en los pacientes tratados con Abraxane en combinación con gemcitabina, 2 presentaron un desenlace mortal. Se debe realizar una estrecha monitorización de los pacientes para detectar signos y síntomas de neumonitis. Después de descartar una etiología infecciosa y una vez realizado el diagnóstico de neumonitis, se debe suspender de forma permanente el tratamiento con Abraxane y gemcitabina e iniciar rápidamente el tratamiento y las medidas de apoyo adecuadas (ver sección\\xa04.2).\\n\\xa0\\nCáncer de pulmón no microcítico (Abraxane administrado en combinación con carboplatino)\\n\\xa0\\nTabla de las reacciones adversas\\nLa Tabla\\xa09 incluye las reacciones adversas asociadas con la administración de Abraxane en combinación con carboplatino.\\n\\xa0\\nTabla\\xa09: Reacciones adversas notificadas con Abraxane en combinación con carboplatino (N = 514)\\n\\n\\n\\nInfecciones e infestaciones\\n\\n\\nFrecuentes: neumonía, bronquitis, infección de las vías respiratorias altas, infección del tracto urinario\\n\\xa0\\nPoco frecuentes: sepsis, candidiasis oral\\n\\n\\n\\n\\nTrastornos de la sangre y del sistema linfático1\\n\\n\\nMuy frecuentes: neutropenia1, trombocitopenia1, anemia1, leucopenia1\\n\\xa0\\nFrecuentes: neutropenia febril, linfopenia\\n\\xa0\\nPoco frecuentes: pancitopenia\\n\\n\\n\\n\\nTrastornos del sistema inmunológico\\n\\n\\nPoco frecuentes: hipersensibilidad al medicamento, hipersensibilidad\\n\\n\\n\\n\\nTrastornos del metabolismo y de la nutrición\\n\\n\\nMuy frecuentes: disminución del apetito\\n\\xa0\\nFrecuentes: deshidratación\\n\\n\\n\\n\\nTrastornos psiquiátricos\\n\\n\\nFrecuentes: insomnio\\n\\n\\n\\n\\nTrastornos del sistema nervioso\\n\\n\\nMuy frecuentes: neuropatía periférica2\\n\\xa0\\nFrecuentes: disgeusia, cefalea, mareos\\n\\n\\n\\n\\nTrastornos oculares\\n\\n\\nFrecuentes: visión borrosa\\n\\n\\n\\n\\nTrastornos vasculares\\n\\n\\nFrecuentes: hipotensión, hipertensión\\n\\xa0\\nPoco frecuentes: rubor\\n\\n\\n\\n\\nTrastornos respiratorios, torácicos y mediastínicos\\n\\n\\nMuy frecuentes: disnea\\n\\xa0\\nFrecuentes: hemoptisis, epistaxis, tos\\n\\xa0\\nPoco frecuentes: neumonitis3\\n\\n\\n\\n\\nTrastornos gastrointestinales\\n\\n\\nMuy frecuentes: diarrea, vómitos, náuseas, estreñimiento\\n\\xa0\\nFrecuentes: estomatitis, dispepsia, dolor abdominal, disfagia\\n\\n\\n\\n\\nTrastornos hepatobiliares\\n\\n\\nFrecuentes: hiperbilirrubinemia\\n\\n\\n\\n\\nTrastornos de la piel y del tejido subcutáneo\\n\\n\\nMuy frecuentes: erupción cutánea, alopecia\\n\\xa0\\nFrecuentes: prurito, trastornos de las uñas\\n\\xa0\\nPoco frecuentes: exfoliación de la piel, dermatitis alérgica, urticaria\\n\\n\\n\\n\\nTrastornos musculoesqueléticos y del tejido conjuntivo\\n\\n\\nMuy frecuentes: artralgia, mialgia\\n\\xa0\\nFrecuentes: dolor de espalda, dolor en las extremidades, dolor musculoesquelético\\n\\n\\n\\n\\nTrastornos generales y alteraciones en el lugar de administración\\n\\n\\nMuy frecuentes: fatiga, astenia, edema periférico\\n\\xa0\\nFrecuentes: pirexia, dolor torácico\\n\\xa0\\nPoco frecuentes: inflamación de mucosas, extravasación en el lugar de perfusión, inflamación en el lugar de perfusión, erupción cutánea en el lugar de perfusión\\n\\n\\n\\n\\nExploraciones complementarias\\n\\n\\nFrecuentes: aumento de la alanina aminotransferasa, aumento de la aspartato aminotransferasa, aumento de la fosfatasa alcalina en sangre, pérdida de peso\\n\\n\\n\\nMedDRA = Diccionario médico para actividades regulatorias: SMQ = Consulta estandarizada en MedDRA\\n1 En función de los análisis de laboratorio: grado máximo de mielosupresión (población tratada)\\n2 Neuropatía periférica evaluada utilizando la SMQ Neuropatía (ámbito general)\\n3 Neumonitis evaluada utilizando la SMQ Enfermedad pulmonar intersticial (ámbito general)\\n\\xa0\\nEn los pacientes con cáncer de pulmón no microcítico tratados con Abraxane y carboplatino, la mediana de tiempo hasta la primera aparición de neuropatía periférica de grado\\xa03 relacionada con el tratamiento fue de 121\\xa0días y la mediana de tiempo hasta la mejoría de la neuropatía periférica de grado\\xa03 relacionada con el tratamiento a grado\\xa01 fue de 38\\xa0días. Ningún paciente tratado con Abraxane y carboplatino presentó neuropatía periférica de grado\\xa04.\\n\\xa0\\nLa anemia y la trombocitopenia se notificaron con mayor frecuencia en el grupo de Abraxane que en el grupo de Taxol (54\\xa0% frente al 28\\xa0% y 45\\xa0% frente al 27\\xa0%, respectivamente).\\n\\xa0\\nSe evaluó la toxicidad a los taxanos notificada por los pacientes utilizando las 4\\xa0subescalas del cuestionario de evaluación funcional del tratamiento del cáncer con taxanos (FACT-taxane por sus siglas en inglés, Functional Assessment of Cancer Therapy–Taxane). Utilizando un análisis de medidas repetidas, 3 de las 4\\xa0subescalas (neuropatía periférica, dolor en manos/pies y audición) favorecieron a Abraxane y carboplatino (p ≤0,002). En la otra subescala (edema), no hubo ninguna diferencia entre los grupos de tratamiento.\\n\\xa0\\nExperiencia poscomercialización\\nSe han notificado casos de parálisis de los nervios craneales, paresia de las cuerdas vocales y casos raros de reacciones de hipersensibilidad grave durante el seguimiento poscomercialización de Abraxane.\\n\\xa0\\nSe han notificado casos raros de disminución de la agudeza visual debido al edema macular cistoide durante el tratamiento con Abraxane. Una vez diagnosticado el edema macular cistoide, se debe suspender el tratamiento con Abraxane.\\n\\xa0\\nSe han notificado casos de síndrome de lisis tumoral durante el tratamiento con Abraxane.\\nEn algunos pacientes que habían estado expuestos previamente a capecitabina, se han notificado casos de eritrodisestesia palmar-plantar como parte de la farmacovigilancia continua de Abraxane. Dado que estos casos proceden de notificación espontánea en la práctica clínica, no se pueden realizar estimaciones verídicas de su frecuencia ni se ha establecido la relación causal de los casos con el tratamiento con Abraxane.\\n\\xa0\\nNotificación de sospechas de reacciones adversas\\nEs importante notificar sospechas de reacciones adversas al medicamento tras su autorización. Ello permite una supervisión continuada de la relación beneficio/riesgo del medicamento. '"
      ]
     },
     "execution_count": 67,
     "metadata": {},
     "output_type": "execute_result"
    }
   ],
   "source": [
    "start2 = drug_info.find('Reacciones adversas') \n",
    "end2 = drug_info.find('Se invita a los profesionales sanitarios', start2)\n",
    "reacciones_adversas=drug_info[start2:end2]\n",
    "\n",
    "reacciones_adversas"
   ]
  },
  {
   "cell_type": "code",
   "execution_count": null,
   "metadata": {},
   "outputs": [],
   "source": []
  }
 ],
 "metadata": {
  "kernelspec": {
   "display_name": "Python 3",
   "language": "python",
   "name": "python3"
  },
  "language_info": {
   "codemirror_mode": {
    "name": "ipython",
    "version": 3
   },
   "file_extension": ".py",
   "mimetype": "text/x-python",
   "name": "python",
   "nbconvert_exporter": "python",
   "pygments_lexer": "ipython3",
   "version": "3.7.2"
  }
 },
 "nbformat": 4,
 "nbformat_minor": 2
}
