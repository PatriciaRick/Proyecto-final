{
 "cells": [
  {
   "cell_type": "code",
   "execution_count": null,
   "metadata": {},
   "outputs": [],
   "source": [
    "import pandas as pd\n",
    "import requests\n",
    "from bs4 import BeautifulSoup\n",
    "import pandas as pd\n",
    "import re"
   ]
  },
  {
   "cell_type": "code",
   "execution_count": null,
   "metadata": {},
   "outputs": [],
   "source": [
    "df1 = pd.read_excel(\"./1PA.xlsx'\")\n",
    "df2 = pd.read_excel(\"./2PA.xlsx'\")\n",
    "df3 = pd.read_excel(\"./3PA.xlsx'\")\n",
    "df4 = pd.read_excel(\"./4PA.xlsx'\")\n",
    "df5 = pd.read_excel(\"./5PA.xlsx'\")\n",
    "df6 = pd.read_excel(\"./6PA.xlsx'\")\n",
    "df7 = pd.read_excel(\"./7PA.xlsx'\")\n",
    "df8 = pd.read_excel(\"./8PA.xlsx'\")\n",
    "df9 = pd.read_excel(\"./9PA.xlsx'\")"
   ]
  },
  {
   "cell_type": "code",
   "execution_count": null,
   "metadata": {},
   "outputs": [],
   "source": [
    "dfs=(df1,df2,df3,df4,df5,df6,df7,df8,df9)\n",
    "register_number=[]\n",
    "for df in dfs: \n",
    "    register_number.append(df['Unnamed: 1'][7:])"
   ]
  },
  {
   "cell_type": "code",
   "execution_count": null,
   "metadata": {},
   "outputs": [],
   "source": [
    "def info(register): \n",
    "    url= 'https://cima.aemps.es:443/cima/dochtml/ft/'+register+'/FT_'+register+'.html'\n",
    "    html= requests.get(url).content\n",
    "    soup= BeautifulSoup(html, 'html')\n",
    "    x = soup.select('section')\n",
    "    return [i.text for i in x]"
   ]
  }
 ],
 "metadata": {
  "kernelspec": {
   "display_name": "Python 3",
   "language": "python",
   "name": "python3"
  },
  "language_info": {
   "codemirror_mode": {
    "name": "ipython",
    "version": 3
   },
   "file_extension": ".py",
   "mimetype": "text/x-python",
   "name": "python",
   "nbconvert_exporter": "python",
   "pygments_lexer": "ipython3",
   "version": "3.7.2"
  }
 },
 "nbformat": 4,
 "nbformat_minor": 2
}
